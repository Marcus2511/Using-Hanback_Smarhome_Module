{
 "cells": [
  {
   "cell_type": "code",
   "execution_count": null,
   "metadata": {},
   "outputs": [],
   "source": [
    "import pyaudio\n",
    "import numpy as np\n",
    "\n",
    "volume = 0.5\n",
    "\n",
    "fs=48000\n",
    "\n",
    "duration=1.0\n",
    "\n",
    "f=440.0\n",
    "\n",
    "data= (np.sin(2*np.pi*np.arange(fs*duration)*f/fs)).astype(np.float32)\n",
    "\n",
    "p=pyaudio.PyAudio()\n",
    "stream = p.open(format=pyaudio.paFloat32, channels=1, rate=fs, output=True)\n",
    "stream.write(volume*data)\n",
    "\n",
    "stream.stop_stream()\n",
    "stream.close()\n",
    "p.terminate()\n"
   ]
  },
  {
   "cell_type": "code",
   "execution_count": null,
   "metadata": {},
   "outputs": [],
   "source": [
    "from pop import Touch, Led\n",
    "import os, time\n",
    "\n",
    "leds=[Led(23), Led(24), Led(25), Led(27)]\n",
    "sw = Touch()\n",
    "\n",
    "data = []\n",
    "flag=False\n",
    "\n",
    "while True:\n",
    "    if sw.readChannel(0):\n",
    "        flag = not flag\n",
    "        if (flag):\n",
    "            for led in leds:\n",
    "                led.on()\n",
    "            print(\"Light On\")\n",
    "            os.system(\"play-q Light_on.mp3\") #Qption-q does not send playback infor output\n",
    "        else:\n",
    "            for led in leds:\n",
    "                led.off()\n",
    "            print(\"Light Off\")\n",
    "            os.system(\"play-q Light_off.mp3\")\n",
    "\n",
    "    time.sleep(3)\n",
    "\n"
   ]
  },
  {
   "cell_type": "code",
   "execution_count": 26,
   "metadata": {},
   "outputs": [
    {
     "name": "stdout",
     "output_type": "stream",
     "text": [
      "init width: 648, init height: 488\n"
     ]
    },
    {
     "data": {
      "application/vnd.jupyter.widget-view+json": {
       "model_id": "8e3b8001364e4e0582161d6dfc450481",
       "version_major": 2,
       "version_minor": 0
      },
      "text/plain": [
       "Image(value=b'\\xff\\xd8\\xff\\xe0\\x00\\x10JFIF\\x00\\x01\\x01\\x00\\x00\\x01\\x00\\x01\\x00\\x00\\xff\\xdb\\x00C\\x00\\x02\\x01\\x0…"
      ]
     },
     "metadata": {},
     "output_type": "display_data"
    }
   ],
   "source": [
    "import cv2\n",
    "\n",
    "from pop import Util\n",
    "\n",
    "Util.enable_imshow()\n",
    "\n",
    "cam= Util.gstrmer(width=648, height=488)\n",
    "\n",
    "camera = cv2.VideoCapture(cam, cv2.CAP_GSTREAMER)\n",
    "if not camera.isOpened():\n",
    "    print(\"Not found camera\")\n",
    "\n",
    "width=camera.get(cv2.CAP_PROP_FRAME_WIDTH)\n",
    "height=camera.get(cv2.CAP_PROP_FRAME_HEIGHT)\n",
    "print(\"init width: %d, init height: %d\" %(width,height))\n",
    "\n",
    "for _ in range(120):\n",
    "    ret, frame=camera.read()\n",
    "    if not ret:\n",
    "        break\n",
    "    cv2.imshow(\"soda\",frame)\n",
    "\n",
    "camera.release()\n",
    "cv2.destroyAllWindows()"
   ]
  },
  {
   "cell_type": "code",
   "execution_count": 27,
   "metadata": {},
   "outputs": [
    {
     "data": {
      "application/vnd.jupyter.widget-view+json": {
       "model_id": "8e3b8001364e4e0582161d6dfc450481",
       "version_major": 2,
       "version_minor": 0
      },
      "text/plain": [
       "Image(value=b'\\xff\\xd8\\xff\\xe0\\x00\\x10JFIF\\x00\\x01\\x01\\x00\\x00\\x01\\x00\\x01\\x00\\x00\\xff\\xdb\\x00C\\x00\\x02\\x01\\x0…"
      ]
     },
     "metadata": {},
     "output_type": "display_data"
    }
   ],
   "source": [
    "import cv2\n",
    "\n",
    "from pop import Util\n",
    "\n",
    "Util.enable_imshow()\n",
    "\n",
    "cam= Util.gstrmer(width=640, height=480)\n",
    "\n",
    "camera = cv2.VideoCapture(cam, cv2.CAP_GSTREAMER)\n",
    "if not camera.isOpened():\n",
    "    print(\"Not found camera\")\n",
    "\n",
    "fourcc=cv2.VideoWriter_fourcc(*\"X264\")\n",
    "out=cv2.VideoWriter(\"soda.avi\", fourcc, 30, (60,480))\n",
    "\n",
    "\n",
    "for _ in range(120):\n",
    "    ret, frame=camera.read()\n",
    "    framGray=cv2.cvtColor(frame, cv2.COLOR_BGR2GRAY)\n",
    "    out.write(frame)\n",
    "    \n",
    "    cv2.imshow(\"soda\",framGray)\n",
    "\n",
    "camera.release()\n",
    "cv2.destroyAllWindows()"
   ]
  },
  {
   "cell_type": "code",
   "execution_count": 24,
   "metadata": {},
   "outputs": [
    {
     "data": {
      "application/vnd.jupyter.widget-view+json": {
       "model_id": "8e3b8001364e4e0582161d6dfc450481",
       "version_major": 2,
       "version_minor": 0
      },
      "text/plain": [
       "Image(value=b'\\xff\\xd8\\xff\\xe0\\x00\\x10JFIF\\x00\\x01\\x01\\x00\\x00\\x01\\x00\\x01\\x00\\x00\\xff\\xdb\\x00C\\x00\\x02\\x01\\x0…"
      ]
     },
     "metadata": {},
     "output_type": "display_data"
    }
   ],
   "source": [
    "import cv2\n",
    "\n",
    "from pop import Util\n",
    "\n",
    "Util.enable_imshow()\n",
    "\n",
    "cam= Util.gstrmer(width=640, height=480)\n",
    "\n",
    "camera = cv2.VideoCapture(cam, cv2.CAP_GSTREAMER)\n",
    "if not camera.isOpened():\n",
    "    print(\"Not found camera\")\n",
    "\n",
    "\n",
    "for _ in range(120):\n",
    "    ret, frame=camera.read()\n",
    "    img = cv2.Canny(frame,100,200)\n",
    "    \n",
    "    cv2.imshow(\"soda\",img)\n",
    "\n",
    "camera.release()\n",
    "cv2.destroyAllWindows()"
   ]
  },
  {
   "cell_type": "code",
   "execution_count": null,
   "metadata": {},
   "outputs": [],
   "source": []
  },
  {
   "cell_type": "code",
   "execution_count": null,
   "metadata": {},
   "outputs": [],
   "source": []
  }
 ],
 "metadata": {
  "kernelspec": {
   "display_name": "Python 3",
   "language": "python",
   "name": "python3"
  },
  "language_info": {
   "codemirror_mode": {
    "name": "ipython",
    "version": 3
   },
   "file_extension": ".py",
   "mimetype": "text/x-python",
   "name": "python",
   "nbconvert_exporter": "python",
   "pygments_lexer": "ipython3",
   "version": "3.6.9"
  }
 },
 "nbformat": 4,
 "nbformat_minor": 4
}
